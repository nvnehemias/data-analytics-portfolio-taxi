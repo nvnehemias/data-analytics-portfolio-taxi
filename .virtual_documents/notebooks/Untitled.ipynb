import pandas as pd
import matplotlib.pyplot as plt





df = pd.read_parquet("../data/raw/yellow_tripdata_2024-09.parquet")
df.head()


# Finding null values
df.isna().sum()


df_clean = df.dropna(how='all')


df_clean.shape


df_clean['passenger_case'] = df_clean['passenger_count'].apply(lambda x: 'No Passengers' if x == 0 else 'Has Passengers')


df_clean.groupby('passenger_case')[['passenger_count']].sum()


df_clean.head()
