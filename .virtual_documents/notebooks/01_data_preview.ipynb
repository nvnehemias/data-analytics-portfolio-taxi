import pandas as pd
import matplotlib.pyplot as plt
import seaborn as sns


df = pd.read_parquet("../data/raw/yellow_tripdata_2024-09.parquet")
df.head()


df.info()


df.describe()


df.columns


df['VendorID'].unique().tolist()


df['payment_type'].unique().tolist()


df.shape
